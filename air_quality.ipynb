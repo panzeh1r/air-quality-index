{
  "nbformat": 4,
  "nbformat_minor": 0,
  "metadata": {
    "colab": {
      "provenance": [],
      "authorship_tag": "ABX9TyO/dZVvt0SGxfH87YY/YJwJ",
      "include_colab_link": true
    },
    "kernelspec": {
      "name": "python3",
      "display_name": "Python 3"
    },
    "language_info": {
      "name": "python"
    }
  },
  "cells": [
    {
      "cell_type": "markdown",
      "metadata": {
        "id": "view-in-github",
        "colab_type": "text"
      },
      "source": [
        "<a href=\"https://colab.research.google.com/github/panzeh1r/air-quality-index/blob/main/air_quality.ipynb\" target=\"_parent\"><img src=\"https://colab.research.google.com/assets/colab-badge.svg\" alt=\"Open In Colab\"/></a>"
      ]
    },
    {
      "cell_type": "code",
      "source": [
        "import pandas as pd\n",
        "from sklearn.model_selection import train_test_split\n",
        "from sklearn.ensemble import RandomForestClassifier\n",
        "from sklearn.metrics import accuracy_score\n",
        "\n",
        "# Loading the dataset\n",
        "df = pd.read_csv(\"/content/Air_Quality.csv\")"
      ],
      "metadata": {
        "id": "pbpGTalvn1HJ"
      },
      "execution_count": 38,
      "outputs": []
    },
    {
      "cell_type": "code",
      "source": [
        "# Function to convert NO2 levels to Air Quality Index (AQI)\n",
        "def convert_to_hki(no2_level):\n",
        "    if 0 <= no2_level <= 100:\n",
        "        return 'Good'\n",
        "    elif 101 <= no2_level <= 200:\n",
        "        return 'Moderate'\n",
        "    elif 201 <= no2_level <= 500:\n",
        "        return 'Unhealthy'\n",
        "    elif 501 <= no2_level <= 1000:\n",
        "        return 'Hazardous'\n",
        "    else:\n",
        "        return 'Unknown'\n",
        "\n",
        "# Adding a new column to the dataset by converting NO2 levels to AQI\n",
        "df['AQI'] = df['Data Value'].apply(convert_to_hki)\n",
        "\n",
        "# Printing the first few columns\n",
        "print(df.head())\n"
      ],
      "metadata": {
        "colab": {
          "base_uri": "https://localhost:8080/"
        },
        "id": "D0ZVB6EXn6ZJ",
        "outputId": "3f5de21e-9c10-46b9-dbc0-a124ed894781"
      },
      "execution_count": 41,
      "outputs": [
        {
          "output_type": "stream",
          "name": "stdout",
          "text": [
            "   Unique ID  Indicator ID                    Name Measure Measure Info  \\\n",
            "0     172653           375  Nitrogen dioxide (NO2)    Mean          ppb   \n",
            "1     172585           375  Nitrogen dioxide (NO2)    Mean          ppb   \n",
            "2     336637           375  Nitrogen dioxide (NO2)    Mean          ppb   \n",
            "3     336622           375  Nitrogen dioxide (NO2)    Mean          ppb   \n",
            "4     172582           375  Nitrogen dioxide (NO2)    Mean          ppb   \n",
            "\n",
            "  Geo Type Name  Geo Join ID                      Geo Place Name  \\\n",
            "0         UHF34          203  Bedford Stuyvesant - Crown Heights   \n",
            "1         UHF34          203  Bedford Stuyvesant - Crown Heights   \n",
            "2         UHF34          204                       East New York   \n",
            "3         UHF34          103                  Fordham - Bronx Pk   \n",
            "4         UHF34          104                Pelham - Throgs Neck   \n",
            "\n",
            "           Time Period  Start_Date  Data Value  Message   HKI   AQI  \n",
            "0  Annual Average 2011  12/01/2010       25.30      NaN  Good  Good  \n",
            "1  Annual Average 2009  12/01/2008       26.93      NaN  Good  Good  \n",
            "2  Annual Average 2015  01/01/2015       19.09      NaN  Good  Good  \n",
            "3  Annual Average 2015  01/01/2015       19.76      NaN  Good  Good  \n",
            "4  Annual Average 2009  12/01/2008       22.83      NaN  Good  Good  \n"
          ]
        }
      ]
    },
    {
      "cell_type": "code",
      "source": [
        "# Separating features and labels for the model\n",
        "X = df[['Data Value']]\n",
        "y = df['AQI']\n",
        "\n",
        "# Splitting the training and testing data\n",
        "X_train, X_test, y_train, y_test = train_test_split(X, y, test_size=0.2, random_state=42)\n",
        "\n",
        "# Training the model\n",
        "rf_model = RandomForestClassifier(random_state=42)\n",
        "rf_model.fit(X_train, y_train)\n",
        "\n",
        "# Evaluating the model on the test data\n",
        "y_pred = rf_model.predict(X_test)\n",
        "accuracy = accuracy_score(y_test, y_pred)\n",
        "print(\"Test set accuracy:\", accuracy)"
      ],
      "metadata": {
        "colab": {
          "base_uri": "https://localhost:8080/"
        },
        "id": "8okFNKf2oGzt",
        "outputId": "7428ee91-f8a6-4d23-c629-cb4331ab0db5"
      },
      "execution_count": 42,
      "outputs": [
        {
          "output_type": "stream",
          "name": "stdout",
          "text": [
            "Test set accuracy: 0.999691738594328\n"
          ]
        }
      ]
    },
    {
      "cell_type": "code",
      "source": [
        "# Getting the region name from the user\n",
        "region_name = input(\"Please enter the region name: \")\n",
        "\n",
        "# Retrieving NO2 levels for the specified region and all dates\n",
        "no2_levels_all_dates = df.loc[df['Geo Place Name'] == region_name, ['Time Period', 'AQI']]\n",
        "\n",
        "# Checking for NO2 levels\n",
        "if no2_levels_all_dates.empty:\n",
        "    print(\"NO2 levels not found for the specified region..\")\n",
        "else:\n",
        "    print(f\"AQI in the {region_name}:\")\n",
        "    print(no2_levels_all_dates)"
      ],
      "metadata": {
        "colab": {
          "base_uri": "https://localhost:8080/"
        },
        "id": "HnjJxD3ZoMaH",
        "outputId": "3c6c7017-4527-45c6-a4a4-f15588c84ccf"
      },
      "execution_count": 43,
      "outputs": [
        {
          "output_type": "stream",
          "name": "stdout",
          "text": [
            "Please enter the region name: Bedford Stuyvesant - Crown Heights\n",
            "AQI in the Bedford Stuyvesant - Crown Heights:\n",
            "               Time Period   AQI\n",
            "0      Annual Average 2011  Good\n",
            "1      Annual Average 2009  Good\n",
            "27          Winter 2009-10  Good\n",
            "116         Winter 2010-11  Good\n",
            "117            Summer 2009  Good\n",
            "...                    ...   ...\n",
            "15263  Annual Average 2015  Good\n",
            "15286  Annual Average 2020  Good\n",
            "15289          Summer 2014  Good\n",
            "15365       Winter 2013-14  Good\n",
            "15371  Annual Average 2019  Good\n",
            "\n",
            "[242 rows x 2 columns]\n"
          ]
        }
      ]
    }
  ]
}